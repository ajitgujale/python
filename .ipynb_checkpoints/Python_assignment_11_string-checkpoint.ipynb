{
 "cells": [
  {
   "cell_type": "code",
   "execution_count": 1,
   "id": "68d26bf7-1619-40fe-b2a7-4bc7e35c5f1a",
   "metadata": {},
   "outputs": [
    {
     "data": {
      "text/plain": [
       "3"
      ]
     },
     "execution_count": 1,
     "metadata": {},
     "output_type": "execute_result"
    }
   ],
   "source": [
    "# Q14) string1='ola ola ola'\n",
    "# Number of ola  = 3\n",
    "string1='ola ola ola'\n",
    "string1.count('ola')\n"
   ]
  },
  {
   "cell_type": "code",
   "execution_count": 7,
   "id": "772f48cf-ec84-4d2a-889e-dd2db7e9fcfc",
   "metadata": {},
   "outputs": [],
   "source": [
    "# Q15) string1='hello hello hello how how how how are you'\n",
    "# What is the most repeated word : how\n",
    "string1='hello hello hello how how how how are you'\n",
    "hello=string1.count('hello')\n",
    "how=string1.count('how')\n",
    "are=string1.count('are')\n",
    "you=string1.count('you')\n",
    "s=(hello,how,are,you)\n",
    "\n",
    "\n"
   ]
  },
  {
   "cell_type": "code",
   "execution_count": 1,
   "id": "fe638eb1-2351-48b8-a7fc-812fa775361a",
   "metadata": {},
   "outputs": [
    {
     "name": "stdout",
     "output_type": "stream",
     "text": [
      "30\n"
     ]
    }
   ],
   "source": [
    "a=10\n",
    "b=20\n",
    "c=a+b\n",
    "print(c)"
   ]
  },
  {
   "cell_type": "code",
   "execution_count": null,
   "id": "dbb65f6b-4d53-4839-80dc-127388423d39",
   "metadata": {},
   "outputs": [],
   "source": []
  }
 ],
 "metadata": {
  "kernelspec": {
   "display_name": "Python 3 (ipykernel)",
   "language": "python",
   "name": "python3"
  },
  "language_info": {
   "codemirror_mode": {
    "name": "ipython",
    "version": 3
   },
   "file_extension": ".py",
   "mimetype": "text/x-python",
   "name": "python",
   "nbconvert_exporter": "python",
   "pygments_lexer": "ipython3",
   "version": "3.11.7"
  }
 },
 "nbformat": 4,
 "nbformat_minor": 5
}
