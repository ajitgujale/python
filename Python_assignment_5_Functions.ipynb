{
 "cells": [
  {
   "cell_type": "code",
   "execution_count": 3,
   "id": "252e11c8-3229-4326-8304-5158c75f0194",
   "metadata": {},
   "outputs": [],
   "source": [
    "def avg_three_number():\n",
    "    a=eval(input(\"Enter the number1:\"))\n",
    "    b=eval(input(\"Enter the number2:\"))\n",
    "    c=eval(input(\"Enter the number3:\"))\n",
    "    average=round((a+b+c)/3,4)\n",
    "    print(f\"avarage of {a} , {b}  and {c} is {average}\")"
   ]
  },
  {
   "cell_type": "code",
   "execution_count": 4,
   "id": "06b62ceb-6898-4e6f-b711-572529d1c461",
   "metadata": {},
   "outputs": [
    {
     "name": "stdin",
     "output_type": "stream",
     "text": [
      "Enter the number1: 17\n",
      "Enter the number2: 25\n",
      "Enter the number3: 15\n"
     ]
    },
    {
     "name": "stdout",
     "output_type": "stream",
     "text": [
      "avarage of 17 , 25  and 15 is 19.0\n"
     ]
    }
   ],
   "source": [
    "avg_three_number()"
   ]
  },
  {
   "cell_type": "code",
   "execution_count": 6,
   "id": "ff4abf38-ebf7-4f1b-8534-a7e3048d3c10",
   "metadata": {},
   "outputs": [],
   "source": [
    "def avg1_three_number(a,b,c):\n",
    "    average=round((a+b+c)/3,4)\n",
    "    print(f\"avarage of {a} , {b}  and {c} is {average}\")"
   ]
  },
  {
   "cell_type": "code",
   "execution_count": 9,
   "id": "23e0fed3-d351-4d8b-8607-e09517e4c423",
   "metadata": {},
   "outputs": [],
   "source": [
    "def area_circle():\n",
    "    r=eval(input(\"Enter the radius of circle:\"))\n",
    "    import math\n",
    "    pi=math.pi\n",
    "    area=roudn(pi*r*r,4)\n",
    "    print(\"the area of cirle is :{}\".format(area))"
   ]
  },
  {
   "cell_type": "code",
   "execution_count": 8,
   "id": "1c21ccb1-4fa3-496b-a939-29da3fb23f0e",
   "metadata": {},
   "outputs": [
    {
     "name": "stdin",
     "output_type": "stream",
     "text": [
      "Enter the radius of circle: 15\n"
     ]
    },
    {
     "name": "stdout",
     "output_type": "stream",
     "text": [
      "the area of cirle is :706.8583470577034\n"
     ]
    }
   ],
   "source": [
    "area_circle()"
   ]
  },
  {
   "cell_type": "code",
   "execution_count": 10,
   "id": "f3ef5a78-da27-46e7-be5c-207450902b7d",
   "metadata": {},
   "outputs": [],
   "source": [
    "def area1_circle(r):\n",
    "    import math\n",
    "    pi=math.pi\n",
    "    area=roudn(pi*r*r,4)\n",
    "    print(\"the area of cirle is :{}\".format(area))"
   ]
  },
  {
   "cell_type": "code",
   "execution_count": 11,
   "id": "b43c31d9-96f9-47ae-b38a-88b89e759c20",
   "metadata": {},
   "outputs": [],
   "source": [
    "def bill_tip():\n",
    "    bill=eval(input(\"Enter the bill amount:\"))\n",
    "    tip_percentage=eval(input(\"Enter the tip percentage:\"))\n",
    "    tip=(tip_percentage/100)*bill\n",
    "    total=bill+tip\n",
    "    print(f\"total bill is {total}\")"
   ]
  },
  {
   "cell_type": "code",
   "execution_count": 22,
   "id": "351f478c-5d57-4c7b-b837-3c174d05b6c9",
   "metadata": {},
   "outputs": [
    {
     "name": "stdin",
     "output_type": "stream",
     "text": [
      "Enter the bill amount: 2000\n",
      "Enter the tip percentage: 10\n"
     ]
    },
    {
     "name": "stdout",
     "output_type": "stream",
     "text": [
      "total bill is 2200.0\n"
     ]
    }
   ],
   "source": [
    "bill_tip()"
   ]
  },
  {
   "cell_type": "code",
   "execution_count": 12,
   "id": "48cb866f-a31c-4c95-9fca-edf77291054a",
   "metadata": {},
   "outputs": [],
   "source": [
    "def bill1_tip(bill,tip_percentage):\n",
    "    tip=(tip_percentage/100)*bill\n",
    "    total=bill+tip\n",
    "    print(f\"total bill is {total}\")"
   ]
  },
  {
   "cell_type": "code",
   "execution_count": 13,
   "id": "482eb27e-4bc5-4fdf-a381-8e113bdc962a",
   "metadata": {},
   "outputs": [],
   "source": [
    "def area_triangle():\n",
    "    base=eval(input(\"Enter the value of base of triangle:\"))\n",
    "    height=eval(input(\"Enter the value of height of triangle\"))\n",
    "    area=0.5*base*height\n",
    "    print(f\"Area of Triangle is : {area}\")"
   ]
  },
  {
   "cell_type": "code",
   "execution_count": 21,
   "id": "660c3c38-e9ee-4c94-b7f4-a530f78af43c",
   "metadata": {},
   "outputs": [
    {
     "name": "stdin",
     "output_type": "stream",
     "text": [
      "Enter the value of base of triangle: 20\n",
      "Enter the value of height of triangle 30\n"
     ]
    },
    {
     "name": "stdout",
     "output_type": "stream",
     "text": [
      "Area of Triangle is : 300.0\n"
     ]
    }
   ],
   "source": [
    "area_triangle()"
   ]
  },
  {
   "cell_type": "code",
   "execution_count": 14,
   "id": "b2ae6160-4784-461c-b794-5e94f8dd7dd6",
   "metadata": {},
   "outputs": [],
   "source": [
    "def area1_triangle(base,height):\n",
    "    area=0.5*base*height\n",
    "    print(f\"Area of Triangle is : {area}\")"
   ]
  },
  {
   "cell_type": "code",
   "execution_count": 19,
   "id": "a9d07185-06a4-435d-a553-21d6c6d6003c",
   "metadata": {},
   "outputs": [],
   "source": [
    "def area_rect():\n",
    "    breadth=eval(input(\"Enter the breath of rectangle\"))\n",
    "    length=eval(input(\"Enter the length of rectangle\"))\n",
    "    area=breadth*length\n",
    "    print(f\"Area of Rectangle is:{area}\")"
   ]
  },
  {
   "cell_type": "code",
   "execution_count": 20,
   "id": "997771b2-dafd-4de1-aa90-48df697731d1",
   "metadata": {},
   "outputs": [
    {
     "name": "stdin",
     "output_type": "stream",
     "text": [
      "Enter the breath of rectangle 15\n",
      "Enter the length of rectangle 20\n"
     ]
    },
    {
     "name": "stdout",
     "output_type": "stream",
     "text": [
      "Area of Rectangle is:300\n"
     ]
    }
   ],
   "source": [
    "area_rect()"
   ]
  },
  {
   "cell_type": "code",
   "execution_count": 24,
   "id": "58304c75-95f9-4891-b5f7-41ffb64dcd54",
   "metadata": {},
   "outputs": [],
   "source": [
    "def area1_rect(breadth,length):\n",
    "    area=breadth*length\n",
    "    print(f\"Area of Rectangle is:{area}\")"
   ]
  },
  {
   "cell_type": "code",
   "execution_count": 26,
   "id": "e7d2d0f5-324f-44fe-aa47-26f8e2d79dea",
   "metadata": {},
   "outputs": [
    {
     "name": "stdout",
     "output_type": "stream",
     "text": [
      "Area of Rectangle is:200\n"
     ]
    }
   ],
   "source": [
    "area1_rect(10,20)"
   ]
  },
  {
   "cell_type": "code",
   "execution_count": 27,
   "id": "2395768b-a56e-4b08-94f7-af7bdbd1519a",
   "metadata": {},
   "outputs": [],
   "source": [
    "def even_odd():\n",
    "    num=eval(input(\"Enter Number:\"))\n",
    "    if num%2==0:\n",
    "        print(f\"The number {num} is even\")\n",
    "    else:\n",
    "        print(f\"The number {num} is odd \")"
   ]
  },
  {
   "cell_type": "code",
   "execution_count": 28,
   "id": "38856021-c658-4bd8-a3f2-72646c567aca",
   "metadata": {},
   "outputs": [
    {
     "name": "stdin",
     "output_type": "stream",
     "text": [
      "Enter Number: 15\n"
     ]
    },
    {
     "name": "stdout",
     "output_type": "stream",
     "text": [
      "The number 15 is odd \n"
     ]
    }
   ],
   "source": [
    "even_odd()"
   ]
  },
  {
   "cell_type": "code",
   "execution_count": 29,
   "id": "5a957b08-e4c2-470e-b77f-e14d449f5f89",
   "metadata": {},
   "outputs": [],
   "source": [
    "def even1_odd(num):\n",
    "    if num%2==0:\n",
    "        print(f\"The number {num} is even\")\n",
    "    else:\n",
    "        print(f\"The number {num} is odd \")"
   ]
  },
  {
   "cell_type": "code",
   "execution_count": 30,
   "id": "f4a5017b-5b3d-40f2-a3d4-ff339564e12d",
   "metadata": {},
   "outputs": [
    {
     "name": "stdout",
     "output_type": "stream",
     "text": [
      "The number 15 is odd \n"
     ]
    }
   ],
   "source": [
    "even1_odd(15)"
   ]
  },
  {
   "cell_type": "code",
   "execution_count": 32,
   "id": "bc5c911e-e1fd-4370-8fef-3faf6420b5f1",
   "metadata": {},
   "outputs": [],
   "source": [
    "def distance_charge():\n",
    "    distance=eval(input(\"Enter the distance:\"))\n",
    "    if distance>=25:\n",
    "        charge=eval(input(\"Enter the charge:\"))\n",
    "        cost=distance*charge\n",
    "        print(\"The total charge is:\",cost)\n",
    "    else:\n",
    "        print(\"Enjoy the free ride\")"
   ]
  },
  {
   "cell_type": "code",
   "execution_count": 33,
   "id": "3643addf-7355-4bc1-a25e-556596d14a8f",
   "metadata": {},
   "outputs": [
    {
     "name": "stdin",
     "output_type": "stream",
     "text": [
      "Enter the distance: 30\n",
      "Enter the charge: 7\n"
     ]
    },
    {
     "name": "stdout",
     "output_type": "stream",
     "text": [
      "The total charge is: 210\n"
     ]
    }
   ],
   "source": [
    "distance_charge()"
   ]
  },
  {
   "cell_type": "code",
   "execution_count": 34,
   "id": "8e20b21d-6579-48fd-a9f9-fba42820647d",
   "metadata": {},
   "outputs": [],
   "source": [
    "def distance_charge1(distance,charge):\n",
    "    if distance>=25:\n",
    "        cost=distance*charge\n",
    "        print(\"The total charge is:\",cost)\n",
    "    else:\n",
    "        print(\"Enjoy the free ride\")"
   ]
  },
  {
   "cell_type": "code",
   "execution_count": 35,
   "id": "896a1888-2bf7-4a29-af77-550a132fdab5",
   "metadata": {},
   "outputs": [
    {
     "name": "stdout",
     "output_type": "stream",
     "text": [
      "The total charge is: 325\n"
     ]
    }
   ],
   "source": [
    "distance_charge1(65,5)"
   ]
  },
  {
   "cell_type": "code",
   "execution_count": 40,
   "id": "66568c31-7bdc-4f69-ac87-e38bffc539c6",
   "metadata": {},
   "outputs": [],
   "source": [
    "def distance_charge_random():\n",
    "    import random\n",
    "    distance=random.randint(1,100)\n",
    "    if distance>=25:\n",
    "        charge=eval(input(\"Enter the charge:\"))\n",
    "        cost=distance*charge\n",
    "        print(\"The total charge is:\",cost)\n",
    "    else:\n",
    "        print(\"Enjoy the free ride\")"
   ]
  },
  {
   "cell_type": "code",
   "execution_count": 41,
   "id": "1ee299d7-7c89-47b8-a7a8-9aee20a0149f",
   "metadata": {},
   "outputs": [
    {
     "name": "stdout",
     "output_type": "stream",
     "text": [
      "Enjoy the free ride\n"
     ]
    }
   ],
   "source": [
    "distance_charge_random()"
   ]
  },
  {
   "cell_type": "code",
   "execution_count": 42,
   "id": "a3226059-7872-4645-8966-ba8a793625e6",
   "metadata": {},
   "outputs": [],
   "source": [
    "def distance_charge():\n",
    "    distance=eval(input(\"Enter the distance in km:\"))\n",
    "    cutoff=25\n",
    "    if distance>=25:\n",
    "        print(\"Good news your charge is applicable for only remaining of 25\")\n",
    "        chargeble_distance=distance-cutoff\n",
    "        charge=eval(input(\"Enter the charge in rupees:\"))\n",
    "        total_cost=charge*distance\n",
    "        print(f\"The total cost is {total_cost}\")\n",
    "    else:\n",
    "        print(\"Free ride\")"
   ]
  },
  {
   "cell_type": "code",
   "execution_count": 43,
   "id": "ed9cadd1-850e-49e1-92e6-1131819ac004",
   "metadata": {},
   "outputs": [
    {
     "name": "stdin",
     "output_type": "stream",
     "text": [
      "Enter the distance in km: 65\n"
     ]
    },
    {
     "name": "stdout",
     "output_type": "stream",
     "text": [
      "Good news your charge is applicable for only remaining of 25\n"
     ]
    },
    {
     "name": "stdin",
     "output_type": "stream",
     "text": [
      "Enter the charge in rupees: 10\n"
     ]
    },
    {
     "name": "stdout",
     "output_type": "stream",
     "text": [
      "The total cost is 650\n"
     ]
    }
   ],
   "source": [
    "distance_charge()"
   ]
  },
  {
   "cell_type": "code",
   "execution_count": 46,
   "id": "8e855079-fc68-40a8-b464-b12b76576e34",
   "metadata": {},
   "outputs": [],
   "source": [
    "def distance_charge():\n",
    "    distance=eval(input(\"Enter the distance in km:\"))\n",
    "    cutoff=25\n",
    "    if distance>=25:\n",
    "        print(\"Good news your charge is applicable for only remaining of 25\")\n",
    "        chargeble_distance=distance-cutoff\n",
    "        charge=eval(input(\"Enter the charge in rupees:\"))\n",
    "        total_cost=charge*chargeble_distance\n",
    "        print(f\"The total cost is {total_cost}\")\n",
    "    else:\n",
    "        print(\"Free ride\")"
   ]
  },
  {
   "cell_type": "code",
   "execution_count": 47,
   "id": "dab108fa-2854-491d-a989-d8d230951a62",
   "metadata": {},
   "outputs": [
    {
     "name": "stdin",
     "output_type": "stream",
     "text": [
      "Enter the distance in km: 65\n"
     ]
    },
    {
     "name": "stdout",
     "output_type": "stream",
     "text": [
      "Good news your charge is applicable for only remaining of 25\n"
     ]
    },
    {
     "name": "stdin",
     "output_type": "stream",
     "text": [
      "Enter the charge in rupees: 10\n"
     ]
    },
    {
     "name": "stdout",
     "output_type": "stream",
     "text": [
      "The total cost is 400\n"
     ]
    }
   ],
   "source": [
    "distance_charge()"
   ]
  },
  {
   "cell_type": "code",
   "execution_count": 48,
   "id": "1d412e97-4bbd-4c80-871c-678199496987",
   "metadata": {},
   "outputs": [],
   "source": [
    "def distance_charge1(distance,charge):\n",
    "    cutoff=25\n",
    "    if distance>=25:\n",
    "        print(\"Good news your charge is applicable for only remaining of 25\")\n",
    "        chargeble_distance=distance-cutoff\n",
    "        total_cost=charge*chargeble_distance\n",
    "        print(f\"The total cost is {total_cost}\")\n",
    "    else:\n",
    "        print(\"Free ride\")"
   ]
  },
  {
   "cell_type": "code",
   "execution_count": 49,
   "id": "64e1926d-67ec-4758-b492-891b73a3c1e6",
   "metadata": {},
   "outputs": [
    {
     "name": "stdout",
     "output_type": "stream",
     "text": [
      "Good news your charge is applicable for only remaining of 25\n",
      "The total cost is 400\n"
     ]
    }
   ],
   "source": [
    "distance_charge1(65,10)"
   ]
  },
  {
   "cell_type": "code",
   "execution_count": 50,
   "id": "00ae4ef3-698e-40f4-92e0-a7808a9a3134",
   "metadata": {},
   "outputs": [],
   "source": [
    "def won_lost():\n",
    "    import random\n",
    "    num1=random.randint(1,10)\n",
    "    num2=eval(input(\"Enter the number2:\"))\n",
    "    print(num1,num2,sep='  ')\n",
    "    if num1==num2:\n",
    "        print(\"You won\")\n",
    "    else:\n",
    "        print(\"you lost\")"
   ]
  },
  {
   "cell_type": "code",
   "execution_count": 51,
   "id": "1ec40df3-32f4-4747-a999-267776b842cd",
   "metadata": {},
   "outputs": [
    {
     "name": "stdin",
     "output_type": "stream",
     "text": [
      "Enter the number2: 5\n"
     ]
    },
    {
     "name": "stdout",
     "output_type": "stream",
     "text": [
      "3  5\n",
      "you lost\n"
     ]
    }
   ],
   "source": [
    "won_lost()"
   ]
  },
  {
   "cell_type": "code",
   "execution_count": 53,
   "id": "82adcddf-3ae0-41c8-93b1-3bbe26f97f79",
   "metadata": {},
   "outputs": [],
   "source": [
    "def won_lost1(num2):\n",
    "    import random\n",
    "    num1=random.randint(1,10)\n",
    "    print(num1,num2,sep='  ')\n",
    "    if num1==num2:\n",
    "        print(\"You won\")\n",
    "    else:\n",
    "        print(\"you lost\")"
   ]
  },
  {
   "cell_type": "code",
   "execution_count": 54,
   "id": "2a60e978-d5a7-414f-a001-47ef4980c28a",
   "metadata": {},
   "outputs": [
    {
     "name": "stdout",
     "output_type": "stream",
     "text": [
      "2  5\n",
      "you lost\n"
     ]
    }
   ],
   "source": [
    "won_lost1(5)"
   ]
  },
  {
   "cell_type": "code",
   "execution_count": 55,
   "id": "33522ce5-da5d-4f73-8a75-fdebcc23b4fa",
   "metadata": {},
   "outputs": [],
   "source": [
    "def one_two_three():\n",
    "    number=eval(input(\"Enter the number:\"))\n",
    "    if number==1:\n",
    "        print(\"One\")\n",
    "    elif number==2:\n",
    "        print(\"two\")\n",
    "    elif number==3:\n",
    "        print(\"three\")\n",
    "    else:\n",
    "        print(\"Enter valid number between 1 to 3\")"
   ]
  },
  {
   "cell_type": "code",
   "execution_count": 56,
   "id": "c73b76bf-a5ed-4512-8947-a7754c8f4fca",
   "metadata": {},
   "outputs": [],
   "source": [
    "def one_two_three1(number):\n",
    "    if number==1:\n",
    "        print(\"One\")\n",
    "    elif number==2:\n",
    "        print(\"two\")\n",
    "    elif number==3:\n",
    "        print(\"three\")\n",
    "    else:\n",
    "        print(\"Enter valid number between 1 to 3\")"
   ]
  },
  {
   "cell_type": "code",
   "execution_count": 57,
   "id": "def38d96-0897-46b0-92bd-c295f3175df3",
   "metadata": {},
   "outputs": [
    {
     "name": "stdout",
     "output_type": "stream",
     "text": [
      "Enter valid number between 1 to 3\n"
     ]
    }
   ],
   "source": [
    "one_two_three1(5)"
   ]
  },
  {
   "cell_type": "code",
   "execution_count": 58,
   "id": "1a7e06ca-d67b-44ab-a273-f0244543e1a0",
   "metadata": {},
   "outputs": [],
   "source": [
    "def zero():\n",
    "    number=eval(input(\"Enter the number:\"))\n",
    "    if number>0:\n",
    "        print(\"positive\")\n",
    "    elif number<0:\n",
    "        print(\"negative\")\n",
    "    else:\n",
    "        print(\"Zero\")"
   ]
  },
  {
   "cell_type": "code",
   "execution_count": 59,
   "id": "6c88e605-be4f-4382-beee-c5029ed34308",
   "metadata": {},
   "outputs": [
    {
     "name": "stdin",
     "output_type": "stream",
     "text": [
      "Enter the number: 5\n"
     ]
    },
    {
     "name": "stdout",
     "output_type": "stream",
     "text": [
      "positive\n"
     ]
    }
   ],
   "source": [
    "zero()"
   ]
  },
  {
   "cell_type": "code",
   "execution_count": 60,
   "id": "ca7fc40c-2415-47a9-8e8c-8245ef423001",
   "metadata": {},
   "outputs": [],
   "source": [
    "def zero1(number):\n",
    "    if number>0:\n",
    "        print(\"positive\")\n",
    "    elif number<0:\n",
    "        print(\"negative\")\n",
    "    else:\n",
    "        print(\"Zero\")"
   ]
  },
  {
   "cell_type": "code",
   "execution_count": 61,
   "id": "3c4ac7a8-4e60-477c-a57a-b40e192839c8",
   "metadata": {},
   "outputs": [
    {
     "name": "stdout",
     "output_type": "stream",
     "text": [
      "negative\n"
     ]
    }
   ],
   "source": [
    "zero1(-3)"
   ]
  },
  {
   "cell_type": "code",
   "execution_count": 67,
   "id": "bd99a3de-f3b6-46a6-8ba4-736d19f64120",
   "metadata": {},
   "outputs": [],
   "source": [
    "def grade():\n",
    "    percentage=eval(input(\"Enter the percentage of marks:\"))\n",
    "    if percentage>=90:\n",
    "        print('A grade')\n",
    "    elif percentage>=75:\n",
    "        print('B grade')\n",
    "    elif percentage>=50:\n",
    "        print('C grade')\n",
    "    elif percentage>=35:\n",
    "        print('D grade')\n",
    "    else:\n",
    "        print('Fail')"
   ]
  },
  {
   "cell_type": "code",
   "execution_count": 64,
   "id": "a9ac1c8b-9505-4974-8259-ef1c0dd23407",
   "metadata": {},
   "outputs": [
    {
     "name": "stdin",
     "output_type": "stream",
     "text": [
      "Enter the percentage of marks: 70\n"
     ]
    },
    {
     "name": "stdout",
     "output_type": "stream",
     "text": [
      "C grade\n"
     ]
    }
   ],
   "source": [
    "grade()"
   ]
  },
  {
   "cell_type": "code",
   "execution_count": 68,
   "id": "fcceed82-8cb9-4398-8126-8d05bdc2f6a3",
   "metadata": {},
   "outputs": [],
   "source": [
    "def grade1(percentage):\n",
    "    if percentage>=90:\n",
    "        print('A grade')\n",
    "    elif percentage>=75:\n",
    "        print('B grade')\n",
    "    elif percentage>=50:\n",
    "        print('C grade')\n",
    "    elif percentage>=35:\n",
    "        print('D grade')\n",
    "    else:\n",
    "        print('Fail')"
   ]
  },
  {
   "cell_type": "code",
   "execution_count": 66,
   "id": "0b84cf5f-547d-4792-9e5b-005c80cc2c08",
   "metadata": {},
   "outputs": [
    {
     "name": "stdout",
     "output_type": "stream",
     "text": [
      "C grade\n"
     ]
    }
   ],
   "source": [
    "grade1(60)"
   ]
  },
  {
   "cell_type": "code",
   "execution_count": 69,
   "id": "52949653-6ebe-4d71-b492-e2d46fb79070",
   "metadata": {},
   "outputs": [],
   "source": [
    "def age():\n",
    "    age=eval(input(\"Enter the age:\"))\n",
    "    if age>=100:\n",
    "        print('You are Lucky')\n",
    "    if age>=75:\n",
    "        print('Old age')\n",
    "    elif age>=50:\n",
    "        print('Senior citizen')\n",
    "    elif age>=30:\n",
    "        print('Middle age')\n",
    "    elif age>=15:\n",
    "        print('young age')\n",
    "    else:\n",
    "        print('kid')"
   ]
  },
  {
   "cell_type": "code",
   "execution_count": 70,
   "id": "1cbe9b16-120f-461c-a264-b3a8a26da1eb",
   "metadata": {},
   "outputs": [
    {
     "name": "stdin",
     "output_type": "stream",
     "text": [
      "Enter the age: 84\n"
     ]
    },
    {
     "name": "stdout",
     "output_type": "stream",
     "text": [
      "Old age\n"
     ]
    }
   ],
   "source": [
    "age()"
   ]
  },
  {
   "cell_type": "code",
   "execution_count": 71,
   "id": "032374af-10ae-407f-bb6a-75756f294437",
   "metadata": {},
   "outputs": [],
   "source": [
    "def age1(age):\n",
    "    if age>=100:\n",
    "        print('You are Lucky')\n",
    "    if age>=75:\n",
    "        print('Old age')\n",
    "    elif age>=50:\n",
    "        print('Senior citizen')\n",
    "    elif age>=30:\n",
    "        print('Middle age')\n",
    "    elif age>=15:\n",
    "        print('young age')\n",
    "    else:\n",
    "        print('kid')"
   ]
  },
  {
   "cell_type": "code",
   "execution_count": 72,
   "id": "2539f3f5-bcd6-463e-80b4-a201fa939170",
   "metadata": {},
   "outputs": [
    {
     "name": "stdout",
     "output_type": "stream",
     "text": [
      "Old age\n"
     ]
    }
   ],
   "source": [
    "age1(90)"
   ]
  },
  {
   "cell_type": "code",
   "execution_count": null,
   "id": "d148ab4c-de1b-4b4b-9e09-1887ee42bd7f",
   "metadata": {},
   "outputs": [],
   "source": []
  }
 ],
 "metadata": {
  "kernelspec": {
   "display_name": "Python 3 (ipykernel)",
   "language": "python",
   "name": "python3"
  },
  "language_info": {
   "codemirror_mode": {
    "name": "ipython",
    "version": 3
   },
   "file_extension": ".py",
   "mimetype": "text/x-python",
   "name": "python",
   "nbconvert_exporter": "python",
   "pygments_lexer": "ipython3",
   "version": "3.11.7"
  }
 },
 "nbformat": 4,
 "nbformat_minor": 5
}
