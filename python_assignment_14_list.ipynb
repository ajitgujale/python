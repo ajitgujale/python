{
 "cells": [
  {
   "cell_type": "code",
   "execution_count": 2,
   "id": "6b34209d-2ca7-4305-a926-6194129cb14b",
   "metadata": {},
   "outputs": [
    {
     "name": "stdout",
     "output_type": "stream",
     "text": [
      "apple\n",
      "banana\n",
      "cherry\n"
     ]
    }
   ],
   "source": [
    "list=[\"apple\", \"banana\", \"cherry\"]\n",
    "for i in list:\n",
    "  print(i)"
   ]
  },
  {
   "cell_type": "code",
   "execution_count": 4,
   "id": "f1ce127b-7e2d-4d25-a9cf-967229563135",
   "metadata": {},
   "outputs": [
    {
     "name": "stdout",
     "output_type": "stream",
     "text": [
      "1 2 3 4 Apple Ball Cat True False "
     ]
    }
   ],
   "source": [
    "l4=[1,2,3,4,'Apple','Ball','Cat',True,False]\n",
    "for i in l4:\n",
    "    print(i,end=' ')"
   ]
  },
  {
   "cell_type": "code",
   "execution_count": 7,
   "id": "bcca6e22-85dc-4d05-8c9b-1f2b4841dc68",
   "metadata": {},
   "outputs": [
    {
     "name": "stdout",
     "output_type": "stream",
     "text": [
      "Apple\n",
      "1\n",
      "['cherry', 'Banana']\n"
     ]
    }
   ],
   "source": [
    "list1=['Apple',1,['cherry','Banana']]\n",
    "for i in list1:\n",
    "    print(i)"
   ]
  },
  {
   "cell_type": "code",
   "execution_count": 11,
   "id": "5ba781f2-17e0-4967-9559-e134671927f1",
   "metadata": {},
   "outputs": [
    {
     "name": "stdout",
     "output_type": "stream",
     "text": [
      "0\n",
      "1\n",
      "2\n"
     ]
    }
   ],
   "source": [
    "list=[\"apple\", \"banana\", \"cherry\"]\n",
    "for i in range(len(list)):\n",
    "  print(i)"
   ]
  },
  {
   "cell_type": "code",
   "execution_count": 14,
   "id": "23e17daa-d697-45d2-914d-fd5601f792df",
   "metadata": {},
   "outputs": [
    {
     "name": "stdout",
     "output_type": "stream",
     "text": [
      "0\n",
      "1\n",
      "2\n"
     ]
    }
   ],
   "source": [
    "list1=['Apple',1,['cherry','Banana']]\n",
    "for i in range(len(list1)):\n",
    "    print(i)"
   ]
  },
  {
   "cell_type": "code",
   "execution_count": 17,
   "id": "50e75f10-4162-4bd1-b5a9-8c8b7c2791f9",
   "metadata": {},
   "outputs": [
    {
     "name": "stdout",
     "output_type": "stream",
     "text": [
      "apple\n",
      "apple\n",
      "apple\n"
     ]
    }
   ],
   "source": [
    "list=[\"apple\", \"banana\", \"cherry\"]\n",
    "for i in range(len(list)):\n",
    "    print(list[0])\n",
    "    "
   ]
  },
  {
   "cell_type": "code",
   "execution_count": 20,
   "id": "62ae80a7-e5d7-497e-8353-06b953ec4334",
   "metadata": {},
   "outputs": [
    {
     "name": "stdout",
     "output_type": "stream",
     "text": [
      "2\n"
     ]
    }
   ],
   "source": [
    "list=[\"apple\", \"banana\",'apple','papaya' \"cherry\"]\n",
    "count=0\n",
    "for i in list:\n",
    "    if i=='apple':\n",
    "        count=count+1\n",
    "print(count)\n",
    "   "
   ]
  },
  {
   "cell_type": "code",
   "execution_count": 26,
   "id": "dd691b1c-2aa8-4c02-acfe-0695cdcbcd24",
   "metadata": {},
   "outputs": [
    {
     "name": "stdout",
     "output_type": "stream",
     "text": [
      "apple\n",
      "apple\n",
      "apple\n",
      "apple\n"
     ]
    }
   ],
   "source": [
    "list=[\"apple\", \"banana\",'apple','papaya' \"cherry\"]\n",
    "count=0\n",
    "for i in range(len(list)):\n",
    "    print(list[2])\n",
    "    "
   ]
  },
  {
   "cell_type": "code",
   "execution_count": 27,
   "id": "fef9b999-0b60-4a1d-a912-6fbd2ab73ac8",
   "metadata": {},
   "outputs": [
    {
     "name": "stdout",
     "output_type": "stream",
     "text": [
      "2\n"
     ]
    }
   ],
   "source": [
    "#Q1) WAP ask the user count how many 'hai' are present in a given string\n",
    "list1=['hai','naresh', 'how', 'hai', 'are', 'you']\n",
    "count=0\n",
    "for i in list1:\n",
    "    if i=='hai':\n",
    "        count=count+1\n",
    "print(count)"
   ]
  },
  {
   "cell_type": "code",
   "execution_count": 28,
   "id": "4799d807-6abb-445d-8ecf-bc000da9091d",
   "metadata": {},
   "outputs": [
    {
     "name": "stdout",
     "output_type": "stream",
     "text": [
      "0\n"
     ]
    }
   ],
   "source": [
    "list1=['hai','naresh', 'how', 'hai', 'are', 'you']\n",
    "count=0\n",
    "for i in list1:\n",
    "    if i=='a':\n",
    "        count=count+1\n",
    "print(count)"
   ]
  },
  {
   "cell_type": "code",
   "execution_count": 30,
   "id": "0f552139-8a79-46e3-ac03-de081e319f57",
   "metadata": {},
   "outputs": [
    {
     "name": "stdout",
     "output_type": "stream",
     "text": [
      "hai\n",
      "naresh\n",
      "how\n",
      "hai\n",
      "are\n",
      "you\n"
     ]
    }
   ],
   "source": [
    "list1=['hai','naresh', 'how', 'hai', 'are', 'you']\n",
    "count=0\n",
    "for i in range(len(list1)):\n",
    "    print(list1[i])"
   ]
  },
  {
   "cell_type": "code",
   "execution_count": 32,
   "id": "b8d7814a-da43-400d-ab02-1f0740683d62",
   "metadata": {},
   "outputs": [
    {
     "name": "stdout",
     "output_type": "stream",
     "text": [
      "Index of hai is 0\n",
      "Index of naresh is 1\n",
      "Index of how is 2\n",
      "Index of hai is 3\n",
      "Index of are is 4\n",
      "Index of you is 5\n"
     ]
    }
   ],
   "source": [
    "list1=['hai','naresh', 'how', 'hai', 'are', 'you']\n",
    "count=0\n",
    "for i in range(len(list1)):\n",
    "    print(f\"Positive Index of {list1[i]} is {i}\")"
   ]
  },
  {
   "cell_type": "code",
   "execution_count": 33,
   "id": "b66b74f4-5ae2-4a10-96fa-5208df732d28",
   "metadata": {},
   "outputs": [
    {
     "name": "stdout",
     "output_type": "stream",
     "text": [
      " Negative Index of hai is -6\n",
      " Negative Index of naresh is -5\n",
      " Negative Index of how is -4\n",
      " Negative Index of hai is -3\n",
      " Negative Index of are is -2\n",
      " Negative Index of you is -1\n"
     ]
    }
   ],
   "source": [
    "list1=['hai','naresh', 'how', 'hai', 'are', 'you']\n",
    "count=0\n",
    "for i in range(len(list1)):\n",
    "    print(f\" Negative Index of {list1[i]} is {i-len(list1)}\")"
   ]
  },
  {
   "cell_type": "code",
   "execution_count": 35,
   "id": "acb6f7a8-3290-44da-ae77-786b8d1b2dbd",
   "metadata": {},
   "outputs": [
    {
     "name": "stdout",
     "output_type": "stream",
     "text": [
      "apple\n"
     ]
    },
    {
     "ename": "TypeError",
     "evalue": "can only concatenate list (not \"str\") to list",
     "output_type": "error",
     "traceback": [
      "\u001b[1;31m---------------------------------------------------------------------------\u001b[0m",
      "\u001b[1;31mTypeError\u001b[0m                                 Traceback (most recent call last)",
      "Cell \u001b[1;32mIn[35], line 9\u001b[0m\n\u001b[0;32m      7\u001b[0m         \u001b[38;5;28;01mif\u001b[39;00m \u001b[38;5;28mlist\u001b[39m[i] \u001b[38;5;129;01min\u001b[39;00m \u001b[38;5;124m'\u001b[39m\u001b[38;5;124mapple\u001b[39m\u001b[38;5;124m'\u001b[39m:\n\u001b[0;32m      8\u001b[0m             \u001b[38;5;28mprint\u001b[39m(\u001b[38;5;28mlist\u001b[39m[i])\n\u001b[1;32m----> 9\u001b[0m             l1\u001b[38;5;241m=\u001b[39ml1\u001b[38;5;241m+\u001b[39m\u001b[38;5;28mlist\u001b[39m[i]\n\u001b[0;32m     10\u001b[0m             count\u001b[38;5;241m=\u001b[39mcount\u001b[38;5;241m+\u001b[39m\u001b[38;5;241m1\u001b[39m\n\u001b[0;32m     11\u001b[0m \u001b[38;5;28mprint\u001b[39m(count)\n",
      "\u001b[1;31mTypeError\u001b[0m: can only concatenate list (not \"str\") to list"
     ]
    }
   ],
   "source": [
    "#count unique apple\n",
    "list=[\"apple\", \"banana\",'apple','papaya' \"cherry\"]\n",
    "l1=[]\n",
    "count=0\n",
    "for i in range(len(list)):\n",
    "    if list[i] not in l1:\n",
    "        if list[i] in 'apple':\n",
    "            print(list[i])\n",
    "            l1=l1+list[i]\n",
    "            count=count+1\n",
    "print(count)"
   ]
  },
  {
   "cell_type": "code",
   "execution_count": 36,
   "id": "3019004b-6bd2-482c-879b-7c1e39990314",
   "metadata": {},
   "outputs": [
    {
     "name": "stdout",
     "output_type": "stream",
     "text": [
      "0\n",
      "2\n"
     ]
    }
   ],
   "source": [
    "# index of each 'apple'\n",
    "list=[\"apple\", \"banana\",'apple','papaya' \"cherry\"]\n",
    "count=0\n",
    "for i in range(len(list)):\n",
    "    if list[i]=='apple':\n",
    "        print(i)\n",
    "    "
   ]
  },
  {
   "cell_type": "code",
   "execution_count": 48,
   "id": "9377325d-6b22-4c29-8115-7d3b4530be19",
   "metadata": {},
   "outputs": [
    {
     "name": "stdout",
     "output_type": "stream",
     "text": [
      "0\n",
      "2\n",
      "4\n",
      "Numer of apples are : 3\n",
      "Sum of indexes of apple are : 6\n"
     ]
    }
   ],
   "source": [
    "#Q10) wap ask the user get the sum of all index numbers of 'apple'\n",
    "list=[\"apple\", \"banana\",'apple','papaya','apple', \"cherry\"]\n",
    "count=0\n",
    "summ=0\n",
    "for i in range(len(list)):\n",
    "    if list[i]=='apple':\n",
    "        count=count+1\n",
    "        summ=summ+i\n",
    "        print(i)\n",
    "\n",
    "print(f'Numer of apples are : {count}')\n",
    "print(f\"Sum of indexes of apple are : {summ}\")\n"
   ]
  },
  {
   "cell_type": "code",
   "execution_count": 49,
   "id": "d30f88f7-150c-4142-9fb8-fae1a8c06899",
   "metadata": {},
   "outputs": [
    {
     "data": {
      "text/plain": [
       "'apple'"
      ]
     },
     "execution_count": 49,
     "metadata": {},
     "output_type": "execute_result"
    }
   ],
   "source": [
    "# indexing in list and string are same\n",
    "list=[\"apple\", \"banana\",'apple','papaya','apple', \"cherry\"]\n",
    "list[0]"
   ]
  },
  {
   "cell_type": "code",
   "execution_count": 50,
   "id": "5beb8e40-e2f1-46a0-af65-7f8519aa49d1",
   "metadata": {},
   "outputs": [
    {
     "data": {
      "text/plain": [
       "'banana'"
      ]
     },
     "execution_count": 50,
     "metadata": {},
     "output_type": "execute_result"
    }
   ],
   "source": [
    "list[-5]"
   ]
  },
  {
   "cell_type": "code",
   "execution_count": 52,
   "id": "408565b2-0732-4d18-97da-ab934635bf50",
   "metadata": {},
   "outputs": [
    {
     "name": "stdout",
     "output_type": "stream",
     "text": [
      "['apple', 'banana', 'apple', 'papaya', 'apple', 'cherry', 'hai', 'naresh', 'how', 'hai', 'are', 'you', 1, 6, 5]\n"
     ]
    }
   ],
   "source": [
    "list1=[\"apple\", \"banana\",'apple','papaya','apple', \"cherry\"]\n",
    "list2=['hai','naresh', 'how', 'hai', 'are', 'you',1,6,5]\n",
    "print(list1+list2)"
   ]
  },
  {
   "cell_type": "markdown",
   "id": "2575d039-4e5a-454a-9705-a524d9c69668",
   "metadata": {},
   "source": [
    "**slicing**"
   ]
  },
  {
   "cell_type": "code",
   "execution_count": 54,
   "id": "74ef56ce-ff91-4de0-9c35-0412cefec82d",
   "metadata": {},
   "outputs": [
    {
     "data": {
      "text/plain": [
       "['apple', 'banana', 450, 'papaya']"
      ]
     },
     "execution_count": 54,
     "metadata": {},
     "output_type": "execute_result"
    }
   ],
   "source": [
    "list=['apple', 'banana', 450, 'papaya', 10, 'cherry', 'hai', 'naresh']\n",
    "list[0:4]"
   ]
  },
  {
   "cell_type": "code",
   "execution_count": 55,
   "id": "0632c2bc-b410-4725-9c54-83d06398cef5",
   "metadata": {},
   "outputs": [
    {
     "data": {
      "text/plain": [
       "['apple', 'banana', 450, 'papaya', 10, 'cherry', 'hai', 'naresh']"
      ]
     },
     "execution_count": 55,
     "metadata": {},
     "output_type": "execute_result"
    }
   ],
   "source": [
    "list[:len(list)]"
   ]
  },
  {
   "cell_type": "code",
   "execution_count": 59,
   "id": "0c198e7d-0fbe-42f8-a710-27eb873950e7",
   "metadata": {},
   "outputs": [
    {
     "data": {
      "text/plain": [
       "[]"
      ]
     },
     "execution_count": 59,
     "metadata": {},
     "output_type": "execute_result"
    }
   ],
   "source": [
    "list[-3:-6]"
   ]
  },
  {
   "cell_type": "code",
   "execution_count": 60,
   "id": "ac35fdec-fc36-4d18-9175-fdc3ccb2f9fb",
   "metadata": {},
   "outputs": [
    {
     "data": {
      "text/plain": [
       "['banana', 450, 'papaya', 10]"
      ]
     },
     "execution_count": 60,
     "metadata": {},
     "output_type": "execute_result"
    }
   ],
   "source": [
    "list=['apple', 'banana', 450, 'papaya', 10, 'cherry', 'hai', 'naresh']\n",
    "list[1:5]"
   ]
  },
  {
   "cell_type": "code",
   "execution_count": 62,
   "id": "c070d824-60bc-47d5-8997-f1c4eaa8c524",
   "metadata": {},
   "outputs": [
    {
     "data": {
      "text/plain": [
       "['naresh', 'hai', 'cherry']"
      ]
     },
     "execution_count": 62,
     "metadata": {},
     "output_type": "execute_result"
    }
   ],
   "source": [
    "list=['apple', 'banana', 450, 'papaya', 10, 'cherry', 'hai', 'naresh']\n",
    "list[-1:-4:-1]"
   ]
  },
  {
   "cell_type": "code",
   "execution_count": 63,
   "id": "484fb6f3-e349-4c17-9f8b-a11e1730faf8",
   "metadata": {},
   "outputs": [
    {
     "data": {
      "text/plain": [
       "['naresh', 'hai', 'cherry', 10, 'papaya', 450, 'banana', 'apple']"
      ]
     },
     "execution_count": 63,
     "metadata": {},
     "output_type": "execute_result"
    }
   ],
   "source": [
    "list=['apple', 'banana', 450, 'papaya', 10, 'cherry', 'hai', 'naresh']\n",
    "list[::-1]"
   ]
  },
  {
   "cell_type": "code",
   "execution_count": null,
   "id": "53c95d54-f95b-4198-b38a-b78d2e8de34a",
   "metadata": {},
   "outputs": [],
   "source": []
  }
 ],
 "metadata": {
  "kernelspec": {
   "display_name": "Python 3 (ipykernel)",
   "language": "python",
   "name": "python3"
  },
  "language_info": {
   "codemirror_mode": {
    "name": "ipython",
    "version": 3
   },
   "file_extension": ".py",
   "mimetype": "text/x-python",
   "name": "python",
   "nbconvert_exporter": "python",
   "pygments_lexer": "ipython3",
   "version": "3.11.7"
  }
 },
 "nbformat": 4,
 "nbformat_minor": 5
}
