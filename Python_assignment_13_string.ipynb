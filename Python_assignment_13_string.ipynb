{
 "cells": [
  {
   "cell_type": "code",
   "execution_count": 1,
   "id": "015620f7-add0-4ae9-b853-22eb4c6551f8",
   "metadata": {},
   "outputs": [
    {
     "name": "stdout",
     "output_type": "stream",
     "text": [
      "True\n"
     ]
    }
   ],
   "source": [
    "#The endswith() method returns True if the string ends with the specified value,\n",
    "#otherwise False.\n",
    "str='hai i am ajit from solapur'\n",
    "print(str.endswith('pur'))"
   ]
  },
  {
   "cell_type": "code",
   "execution_count": 2,
   "id": "e120bd9a-7f9d-4712-9151-97c6149be47b",
   "metadata": {},
   "outputs": [
    {
     "name": "stdout",
     "output_type": "stream",
     "text": [
      "False\n"
     ]
    }
   ],
   "source": [
    "str='hai i am ajit from solapur'\n",
    "print(str.endswith('hai'))"
   ]
  },
  {
   "cell_type": "markdown",
   "id": "7bfe2160-5822-41da-9918-f788be4e89dd",
   "metadata": {},
   "source": [
    "**#The startswith() method returns True if the string ends with the specified value,\n",
    "#otherwise False.**"
   ]
  },
  {
   "cell_type": "code",
   "execution_count": 3,
   "id": "ae467d86-ac72-484f-bd88-260225f0282a",
   "metadata": {},
   "outputs": [
    {
     "name": "stdout",
     "output_type": "stream",
     "text": [
      "True\n"
     ]
    }
   ],
   "source": [
    "str='hai i am ajit from solapur'\n",
    "print(str.startswith('hai'))"
   ]
  },
  {
   "cell_type": "markdown",
   "id": "a14808b0-96cb-4dae-9976-d320b90c7054",
   "metadata": {},
   "source": [
    "**split**\n",
    "\n",
    "- #strip is used to removes spaces or character trailing and leading of string"
   ]
  },
  {
   "cell_type": "code",
   "execution_count": 4,
   "id": "b493500b-a3e9-40e0-b959-292b87e99578",
   "metadata": {},
   "outputs": [
    {
     "name": "stdout",
     "output_type": "stream",
     "text": [
      "of all fruits apple is my favorite\n"
     ]
    }
   ],
   "source": [
    "str = \"     apple     \"\n",
    "\n",
    "x = str.strip()\n",
    "\n",
    "print(\"of all fruits\", x, \"is my favorite\")\n"
   ]
  },
  {
   "cell_type": "code",
   "execution_count": 5,
   "id": "7a3c723f-9fcf-48c5-a6bf-879af842b549",
   "metadata": {},
   "outputs": [
    {
     "data": {
      "text/plain": [
       "['hai. My name is Ajit', ' I from maharashtra.']"
      ]
     },
     "execution_count": 5,
     "metadata": {},
     "output_type": "execute_result"
    }
   ],
   "source": [
    "str=\"hai. My name is Ajit, I from maharashtra.\"\n",
    "str.split(',')"
   ]
  },
  {
   "cell_type": "code",
   "execution_count": 6,
   "id": "cebebeb1-02fd-4de3-901a-f7d3749a4fd7",
   "metadata": {},
   "outputs": [
    {
     "name": "stdout",
     "output_type": "stream",
     "text": [
      "['hai', ' My name is Ajit', ' I from maharashtra.']\n"
     ]
    }
   ],
   "source": [
    "str=\"hai$ My name is Ajit$ I from maharashtra.\"\n",
    "s1=str.split('$')\n",
    "print(s1)"
   ]
  },
  {
   "cell_type": "code",
   "execution_count": 7,
   "id": "b5482503-ea4a-41b7-b5b1-b826237b91d6",
   "metadata": {},
   "outputs": [
    {
     "name": "stdout",
     "output_type": "stream",
     "text": [
      "['hai', ' My name is Ajit$ I from maharashtra.']\n"
     ]
    }
   ],
   "source": [
    "str=\"hai$ My name is Ajit$ I from maharashtra.\"\n",
    "s1=str.split('$',1)\n",
    "print(s1)"
   ]
  },
  {
   "cell_type": "code",
   "execution_count": 8,
   "id": "5de52d30-e984-4306-893f-7918d404ccdc",
   "metadata": {},
   "outputs": [
    {
     "data": {
      "text/plain": [
       "'banana'"
      ]
     },
     "execution_count": 8,
     "metadata": {},
     "output_type": "execute_result"
    }
   ],
   "source": [
    "txt = \"     banana     \"\n",
    "\n",
    "txt.strip()\n"
   ]
  },
  {
   "cell_type": "code",
   "execution_count": 9,
   "id": "1b7c9846-0397-4308-acf4-93e2fb8cb1ab",
   "metadata": {},
   "outputs": [
    {
     "name": "stdout",
     "output_type": "stream",
     "text": [
      "banana\n"
     ]
    }
   ],
   "source": [
    "s=\",,,,,rrttgg.....banana....rrr\"\n",
    "\n",
    "x=s.strip(\",.grt\") #Here we want to remove r,g,t,','and '.'\n",
    "\n",
    "print(x)"
   ]
  },
  {
   "cell_type": "markdown",
   "id": "f033f407-f6cc-412f-a4aa-6c8c50f3d418",
   "metadata": {},
   "source": [
    "**r strip is used to remove a set of charaters as trailing characters**"
   ]
  },
  {
   "cell_type": "code",
   "execution_count": 11,
   "id": "ea625dfa-1438-4949-b6cd-f8825d8e6ce1",
   "metadata": {},
   "outputs": [
    {
     "name": "stdout",
     "output_type": "stream",
     "text": [
      "...banana\n"
     ]
    }
   ],
   "source": [
    "str=\"...banana,,,,,ssqqqww.....\"\n",
    "\n",
    "s=str.rstrip(\",.qsw\")\n",
    "\n",
    "print(s)"
   ]
  },
  {
   "cell_type": "code",
   "execution_count": null,
   "id": "065fd422-dfe9-4321-bbca-d70cc0f66192",
   "metadata": {},
   "outputs": [],
   "source": [
    "#The lstrip() method removes any leading characters \n",
    "#(space is the default leading character to remove)"
   ]
  },
  {
   "cell_type": "code",
   "execution_count": 13,
   "id": "0eeb5e27-9eb9-483c-a3e1-99e486d822cd",
   "metadata": {},
   "outputs": [
    {
     "name": "stdout",
     "output_type": "stream",
     "text": [
      "banana\n"
     ]
    }
   ],
   "source": [
    "txt = \",,,,,ssaaww.....banana\"\n",
    "\n",
    "x = txt.lstrip(\",.asw\")\n",
    "\n",
    "print(x)"
   ]
  },
  {
   "cell_type": "code",
   "execution_count": null,
   "id": "5d12c8e0-9d8d-4646-b99c-c0cfb51b0a38",
   "metadata": {},
   "outputs": [],
   "source": []
  }
 ],
 "metadata": {
  "kernelspec": {
   "display_name": "Python 3 (ipykernel)",
   "language": "python",
   "name": "python3"
  },
  "language_info": {
   "codemirror_mode": {
    "name": "ipython",
    "version": 3
   },
   "file_extension": ".py",
   "mimetype": "text/x-python",
   "name": "python",
   "nbconvert_exporter": "python",
   "pygments_lexer": "ipython3",
   "version": "3.11.7"
  }
 },
 "nbformat": 4,
 "nbformat_minor": 5
}
